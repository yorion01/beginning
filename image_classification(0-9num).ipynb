{
  "nbformat": 4,
  "nbformat_minor": 0,
  "metadata": {
    "colab": {
      "provenance": [],
      "gpuType": "T4",
      "collapsed_sections": [
        "JSdfFKN0_FI-",
        "oOemMB3__A8v"
      ],
      "include_colab_link": true
    },
    "kernelspec": {
      "name": "python3",
      "display_name": "Python 3"
    },
    "language_info": {
      "name": "python"
    },
    "accelerator": "GPU",
    "gpuClass": "standard"
  },
  "cells": [
    {
      "cell_type": "markdown",
      "metadata": {
        "id": "view-in-github",
        "colab_type": "text"
      },
      "source": [
        "<a href=\"https://colab.research.google.com/github/yorion01/beginning/blob/main/image_classification(0-9num).ipynb\" target=\"_parent\"><img src=\"https://colab.research.google.com/assets/colab-badge.svg\" alt=\"Open In Colab\"/></a>"
      ]
    },
    {
      "cell_type": "code",
      "execution_count": null,
      "metadata": {
        "id": "Y6dxAMACMprY"
      },
      "outputs": [],
      "source": [
        "from torchvision import datasets\n",
        "from torch.utils.data import DataLoader\n",
        "from torch.utils.data import sampler\n",
        "\n",
        "import torch.nn as nn\n",
        "import numpy as np\n",
        "import torchvision\n",
        "import torchvision.transforms as T\n",
        "import matplotlib.pyplot as plt\n",
        "import torch"
      ]
    },
    {
      "cell_type": "code",
      "source": [
        "transform = T.Compose([\n",
        "                T.ToTensor()\n",
        "            ])\n",
        "\n",
        "dataset_train = datasets.MNIST('dataset', train=True, download=True, transform=transform)\n",
        "dataset_test = datasets.MNIST('dataset', train=False, download=True, transform=transform)"
      ],
      "metadata": {
        "id": "gnIGecS0M9u0",
        "colab": {
          "base_uri": "https://localhost:8080/"
        },
        "outputId": "f90a46c3-7d9a-44bb-baec-615c94702378"
      },
      "execution_count": null,
      "outputs": [
        {
          "output_type": "stream",
          "name": "stdout",
          "text": [
            "Downloading http://yann.lecun.com/exdb/mnist/train-images-idx3-ubyte.gz\n",
            "Downloading http://yann.lecun.com/exdb/mnist/train-images-idx3-ubyte.gz to dataset/MNIST/raw/train-images-idx3-ubyte.gz\n"
          ]
        },
        {
          "output_type": "stream",
          "name": "stderr",
          "text": [
            "100%|██████████| 9912422/9912422 [00:00<00:00, 200365839.08it/s]"
          ]
        },
        {
          "output_type": "stream",
          "name": "stdout",
          "text": [
            "Extracting dataset/MNIST/raw/train-images-idx3-ubyte.gz to dataset/MNIST/raw\n"
          ]
        },
        {
          "output_type": "stream",
          "name": "stderr",
          "text": [
            "\n"
          ]
        },
        {
          "output_type": "stream",
          "name": "stdout",
          "text": [
            "\n",
            "Downloading http://yann.lecun.com/exdb/mnist/train-labels-idx1-ubyte.gz\n",
            "Downloading http://yann.lecun.com/exdb/mnist/train-labels-idx1-ubyte.gz to dataset/MNIST/raw/train-labels-idx1-ubyte.gz\n"
          ]
        },
        {
          "output_type": "stream",
          "name": "stderr",
          "text": [
            "100%|██████████| 28881/28881 [00:00<00:00, 126976618.26it/s]\n"
          ]
        },
        {
          "output_type": "stream",
          "name": "stdout",
          "text": [
            "Extracting dataset/MNIST/raw/train-labels-idx1-ubyte.gz to dataset/MNIST/raw\n",
            "\n",
            "Downloading http://yann.lecun.com/exdb/mnist/t10k-images-idx3-ubyte.gz\n",
            "Downloading http://yann.lecun.com/exdb/mnist/t10k-images-idx3-ubyte.gz to dataset/MNIST/raw/t10k-images-idx3-ubyte.gz\n"
          ]
        },
        {
          "output_type": "stream",
          "name": "stderr",
          "text": [
            "100%|██████████| 1648877/1648877 [00:00<00:00, 162131737.54it/s]"
          ]
        },
        {
          "output_type": "stream",
          "name": "stdout",
          "text": [
            "Extracting dataset/MNIST/raw/t10k-images-idx3-ubyte.gz to dataset/MNIST/raw\n",
            "\n",
            "Downloading http://yann.lecun.com/exdb/mnist/t10k-labels-idx1-ubyte.gz\n"
          ]
        },
        {
          "output_type": "stream",
          "name": "stderr",
          "text": [
            "\n"
          ]
        },
        {
          "output_type": "stream",
          "name": "stdout",
          "text": [
            "Downloading http://yann.lecun.com/exdb/mnist/t10k-labels-idx1-ubyte.gz to dataset/MNIST/raw/t10k-labels-idx1-ubyte.gz\n"
          ]
        },
        {
          "output_type": "stream",
          "name": "stderr",
          "text": [
            "100%|██████████| 4542/4542 [00:00<00:00, 7839723.77it/s]\n"
          ]
        },
        {
          "output_type": "stream",
          "name": "stdout",
          "text": [
            "Extracting dataset/MNIST/raw/t10k-labels-idx1-ubyte.gz to dataset/MNIST/raw\n",
            "\n"
          ]
        }
      ]
    },
    {
      "cell_type": "code",
      "source": [],
      "metadata": {
        "id": "_43aAuARspUa"
      },
      "execution_count": null,
      "outputs": []
    },
    {
      "cell_type": "code",
      "source": [
        "x = dataset_train[1][0]\n",
        "\n",
        "plt.imshow( x[0], cmap='gray' )\n",
        "x = x.unsqueeze(0) # add batch dim\n",
        "x.size()"
      ],
      "metadata": {
        "colab": {
          "base_uri": "https://localhost:8080/",
          "height": 448
        },
        "id": "mt_lpQRbNC4Y",
        "outputId": "0861031c-50eb-464f-b0ef-36e787b70f13"
      },
      "execution_count": null,
      "outputs": [
        {
          "output_type": "execute_result",
          "data": {
            "text/plain": [
              "torch.Size([1, 1, 28, 28])"
            ]
          },
          "metadata": {},
          "execution_count": 3
        },
        {
          "output_type": "display_data",
          "data": {
            "text/plain": [
              "<Figure size 640x480 with 1 Axes>"
            ],
            "image/png": "[encoded data removed]"
          },
          "metadata": {}
        }
      ]
    },
    {
      "cell_type": "code",
      "source": [
        "batch_size = 64\n",
        "train_loader = DataLoader(dataset_train, batch_size=batch_size, sampler=sampler.SubsetRandomSampler(range(0, len(dataset_train) * 4//5)), drop_last=True)\n",
        "val_loader = DataLoader(dataset_train, batch_size=batch_size, sampler=sampler.SubsetRandomSampler(range(len(dataset_train) * 4//5, len(dataset_train))), drop_last=True)\n",
        "test_loader = DataLoader(dataset_test, batch_size=batch_size, drop_last=True)"
      ],
      "metadata": {
        "id": "Cw8jE6U-NGua"
      },
      "execution_count": null,
      "outputs": []
    },
    {
      "cell_type": "code",
      "source": [
        "for x,y in train_loader:\n",
        "  print(\"X 크기 : {}\".format(x.shape[1:]))\n",
        "  print(\"y 크기 : {}\".format(y.shape[1:]))\n",
        "  break"
      ],
      "metadata": {
        "colab": {
          "base_uri": "https://localhost:8080/"
        },
        "id": "MOPO7jTNN3Xh",
        "outputId": "b4e9aa46-54fd-4c6e-9646-a2877ead0117"
      },
      "execution_count": null,
      "outputs": [
        {
          "output_type": "stream",
          "name": "stdout",
          "text": [
            "X 크기 : torch.Size([1, 28, 28])\n",
            "y 크기 : torch.Size([])\n"
          ]
        }
      ]
    },
    {
      "cell_type": "code",
      "source": [
        "# 데이터 & 모델에 device 붙임!!!\n",
        "device = torch.device('cuda:0' if torch.cuda.is_available() else 'cpu')\n",
        "print(f'{device} is available')"
      ],
      "metadata": {
        "colab": {
          "base_uri": "https://localhost:8080/"
        },
        "id": "I7qwqu2ROLXJ",
        "outputId": "3532f850-f02f-4340-fb10-1865b77c618c"
      },
      "execution_count": null,
      "outputs": [
        {
          "output_type": "stream",
          "name": "stdout",
          "text": [
            "cuda:0 is available\n"
          ]
        }
      ]
    },
    {
      "cell_type": "markdown",
      "source": [
        "### VGG 모델"
      ],
      "metadata": {
        "id": "oOemMB3__A8v"
      }
    },
    {
      "cell_type": "code",
      "source": [
        "torchvision.models.vgg11(pretrained=True)"
      ],
      "metadata": {
        "colab": {
          "base_uri": "https://localhost:8080/"
        },
        "id": "m-tnY4eU9M9O",
        "outputId": "d6620f0b-27b9-4130-b333-6053c80bcd94"
      },
      "execution_count": null,
      "outputs": [
        {
          "output_type": "stream",
          "name": "stderr",
          "text": [
            "/usr/local/lib/python3.10/dist-packages/torchvision/models/_utils.py:208: UserWarning: The parameter 'pretrained' is deprecated since 0.13 and may be removed in the future, please use 'weights' instead.\n",
            "  warnings.warn(\n",
            "/usr/local/lib/python3.10/dist-packages/torchvision/models/_utils.py:223: UserWarning: Arguments other than a weight enum or `None` for 'weights' are deprecated since 0.13 and may be removed in the future. The current behavior is equivalent to passing `weights=VGG11_Weights.IMAGENET1K_V1`. You can also use `weights=VGG11_Weights.DEFAULT` to get the most up-to-date weights.\n",
            "  warnings.warn(msg)\n"
          ]
        },
        {
          "output_type": "execute_result",
          "data": {
            "text/plain": [
              "VGG(\n",
              "  (features): Sequential(\n",
              "    (0): Conv2d(3, 64, kernel_size=(3, 3), stride=(1, 1), padding=(1, 1))\n",
              "    (1): ReLU(inplace=True)\n",
              "    (2): MaxPool2d(kernel_size=2, stride=2, padding=0, dilation=1, ceil_mode=False)\n",
              "    (3): Conv2d(64, 128, kernel_size=(3, 3), stride=(1, 1), padding=(1, 1))\n",
              "    (4): ReLU(inplace=True)\n",
              "    (5): MaxPool2d(kernel_size=2, stride=2, padding=0, dilation=1, ceil_mode=False)\n",
              "    (6): Conv2d(128, 256, kernel_size=(3, 3), stride=(1, 1), padding=(1, 1))\n",
              "    (7): ReLU(inplace=True)\n",
              "    (8): Conv2d(256, 256, kernel_size=(3, 3), stride=(1, 1), padding=(1, 1))\n",
              "    (9): ReLU(inplace=True)\n",
              "    (10): MaxPool2d(kernel_size=2, stride=2, padding=0, dilation=1, ceil_mode=False)\n",
              "    (11): Conv2d(256, 512, kernel_size=(3, 3), stride=(1, 1), padding=(1, 1))\n",
              "    (12): ReLU(inplace=True)\n",
              "    (13): Conv2d(512, 512, kernel_size=(3, 3), stride=(1, 1), padding=(1, 1))\n",
              "    (14): ReLU(inplace=True)\n",
              "    (15): MaxPool2d(kernel_size=2, stride=2, padding=0, dilation=1, ceil_mode=False)\n",
              "    (16): Conv2d(512, 512, kernel_size=(3, 3), stride=(1, 1), padding=(1, 1))\n",
              "    (17): ReLU(inplace=True)\n",
              "    (18): Conv2d(512, 512, kernel_size=(3, 3), stride=(1, 1), padding=(1, 1))\n",
              "    (19): ReLU(inplace=True)\n",
              "    (20): MaxPool2d(kernel_size=2, stride=2, padding=0, dilation=1, ceil_mode=False)\n",
              "  )\n",
              "  (avgpool): AdaptiveAvgPool2d(output_size=(7, 7))\n",
              "  (classifier): Sequential(\n",
              "    (0): Linear(in_features=25088, out_features=4096, bias=True)\n",
              "    (1): ReLU(inplace=True)\n",
              "    (2): Dropout(p=0.5, inplace=False)\n",
              "    (3): Linear(in_features=4096, out_features=4096, bias=True)\n",
              "    (4): ReLU(inplace=True)\n",
              "    (5): Dropout(p=0.5, inplace=False)\n",
              "    (6): Linear(in_features=4096, out_features=1000, bias=True)\n",
              "  )\n",
              ")"
            ]
          },
          "metadata": {},
          "execution_count": 59
        }
      ]
    },
    {
      "cell_type": "code",
      "source": [
        "class VGG(nn.Module):\n",
        "  def __init__(self, in_channels=1):\n",
        "    super(VGG,self).__init__()\n",
        "\n",
        "    self.model = torchvision.models.vgg11(pretrained=True)\n",
        "    self.model.features[0] = nn.Conv2d(in_channels,64,kernel_size=3,stride=1,padding=1,)\n",
        "    self.model.features = self.model.features[:15]\n",
        "    self.model.classifier[6] = nn.Linear(4096,10)\n",
        "\n",
        "  def forward(self,x):\n",
        "    return self.model(x)\n"
      ],
      "metadata": {
        "id": "m6Ov_1vw9MyP"
      },
      "execution_count": null,
      "outputs": []
    },
    {
      "cell_type": "code",
      "source": [
        "model = VGG().to(device)\n",
        "basic_data = torch.rand(64,1,28,28)\n",
        "model(basic_data.to(device))"
      ],
      "metadata": {
        "colab": {
          "base_uri": "https://localhost:8080/"
        },
        "id": "h-hf6q-D9Mt4",
        "outputId": "4fe5f43d-50f0-44f0-cdbe-b99a14320855"
      },
      "execution_count": null,
      "outputs": [
        {
          "output_type": "stream",
          "name": "stderr",
          "text": [
            "/usr/local/lib/python3.10/dist-packages/torchvision/models/_utils.py:208: UserWarning: The parameter 'pretrained' is deprecated since 0.13 and may be removed in the future, please use 'weights' instead.\n",
            "  warnings.warn(\n",
            "/usr/local/lib/python3.10/dist-packages/torchvision/models/_utils.py:223: UserWarning: Arguments other than a weight enum or `None` for 'weights' are deprecated since 0.13 and may be removed in the future. The current behavior is equivalent to passing `weights=VGG11_Weights.IMAGENET1K_V1`. You can also use `weights=VGG11_Weights.DEFAULT` to get the most up-to-date weights.\n",
            "  warnings.warn(msg)\n"
          ]
        },
        {
          "output_type": "execute_result",
          "data": {
            "text/plain": [
              "tensor([[ 2.5100e-02, -1.2526e-01,  7.0201e-02, -4.2998e-02, -2.4999e-02,\n",
              "         -5.9819e-02,  1.6602e-01,  2.9810e-01, -4.9141e-02, -1.0118e-01],\n",
              "        [-7.8845e-02,  4.9256e-02,  2.7100e-01,  6.7675e-02,  1.7462e-02,\n",
              "          1.7586e-01,  5.4357e-02,  1.5130e-01, -3.1348e-03,  1.1208e-01],\n",
              "        [-4.4111e-02, -5.9130e-02,  1.7050e-01,  3.3381e-01,  9.2228e-02,\n",
              "          5.8210e-02,  2.7422e-01,  1.2119e-01, -6.5940e-02, -9.7443e-02],\n",
              "        [-1.2630e-01, -2.1839e-01,  3.2358e-01,  3.4354e-02, -1.2296e-01,\n",
              "          1.1966e-01,  1.9564e-01,  2.9208e-01,  2.7464e-01,  5.1429e-02],\n",
              "        [-1.9441e-03,  5.5917e-02,  2.6170e-03,  3.8831e-02,  1.9986e-01,\n",
              "         -7.8504e-02,  1.2347e-01,  2.3530e-01,  1.2828e-01, -5.1407e-02],\n",
              "        [-6.2287e-02, -1.3440e-02,  5.9972e-02, -7.0762e-02, -3.2092e-02,\n",
              "         -7.5491e-02,  7.9584e-02,  3.9960e-01,  4.7481e-02,  6.8855e-02],\n",
              "        [-2.0625e-01,  1.4747e-01,  8.3401e-02,  1.4947e-01,  5.2228e-02,\n",
              "         -5.9484e-02,  1.5543e-01,  2.4796e-01,  1.4514e-02,  6.8061e-02],\n",
              "        [-1.8496e-02, -1.9750e-01,  2.2502e-01, -4.3746e-03,  7.6890e-02,\n",
              "         -2.6922e-02,  2.0088e-02,  2.2699e-01, -3.0217e-01, -1.4929e-01],\n",
              "        [-2.1254e-01,  6.0316e-02,  5.8107e-02, -2.3151e-02, -1.3508e-01,\n",
              "          1.0540e-01,  1.0758e-01,  3.0033e-01,  6.1254e-02, -1.8517e-01],\n",
              "        [ 8.8764e-02,  7.8722e-02,  2.0524e-01, -1.7284e-03, -6.2838e-02,\n",
              "         -3.2955e-02,  1.0049e-01,  2.9352e-01, -1.6503e-01, -3.3274e-02],\n",
              "        [-9.3873e-02,  1.0261e-01,  5.3225e-02, -1.5202e-01,  1.6652e-02,\n",
              "          1.0851e-01,  6.1652e-02,  3.6353e-01, -1.0926e-01,  2.4907e-02],\n",
              "        [-1.3916e-01, -4.2921e-02,  8.5706e-02, -9.5508e-03, -2.0130e-01,\n",
              "          6.6216e-02,  1.2213e-01,  4.7190e-01, -6.0833e-02,  1.7860e-01],\n",
              "        [-1.0555e-01,  1.5905e-01,  1.2984e-01,  7.5069e-02, -6.1016e-02,\n",
              "         -2.2300e-01, -1.0620e-02,  3.4211e-01,  2.0123e-01, -2.9181e-02],\n",
              "        [-1.3122e-02, -1.0319e-02,  1.0405e-01, -2.2132e-01,  1.3043e-04,\n",
              "          1.1772e-01, -1.4939e-02,  2.3764e-01,  2.9088e-02, -6.3948e-02],\n",
              "        [-1.1876e-01, -1.0868e-01, -7.2141e-02,  1.0817e-01,  4.3829e-02,\n",
              "         -4.1117e-02, -1.2810e-03,  5.0230e-01,  1.2672e-01, -3.1421e-01],\n",
              "        [-2.9344e-02,  1.9885e-01,  1.0844e-01, -2.0106e-01, -2.6358e-02,\n",
              "          2.8524e-02,  2.7571e-01,  3.7932e-01,  1.6357e-01, -2.5878e-02],\n",
              "        [ 2.6164e-02, -5.8698e-02, -4.0789e-02, -9.1950e-02, -6.1917e-02,\n",
              "         -2.0637e-02,  6.4115e-02,  1.7387e-01,  2.1007e-01,  9.2095e-02],\n",
              "        [-2.6403e-01,  1.2772e-01, -6.0735e-02,  2.3228e-02,  6.7418e-02,\n",
              "         -2.0490e-02,  7.3271e-02,  9.2486e-02, -2.9735e-02,  9.0066e-02],\n",
              "        [-7.5903e-02,  7.3679e-02,  2.2648e-01,  3.6999e-02, -1.8206e-01,\n",
              "          1.2703e-02,  5.6798e-02,  2.9271e-01,  6.3140e-02,  2.6592e-02],\n",
              "        [-2.8614e-01,  3.9279e-02,  4.4660e-02,  3.3165e-02, -1.2744e-01,\n",
              "         -2.4397e-01,  1.0863e-01,  2.6764e-01,  6.0161e-02, -1.4567e-01],\n",
              "        [ 6.3496e-02,  1.3922e-01,  6.9344e-02, -2.7277e-02, -8.2400e-02,\n",
              "         -5.8306e-02, -3.0987e-02,  2.2662e-01, -1.0971e-01,  7.9974e-02],\n",
              "        [-6.1107e-02,  4.1066e-02,  7.3361e-02,  6.9879e-02,  4.6764e-02,\n",
              "          9.9730e-02,  2.2295e-01,  3.6253e-02, -1.4976e-01,  4.0606e-02],\n",
              "        [-5.6379e-02,  5.9794e-02,  2.5711e-01, -1.0488e-01, -1.2338e-01,\n",
              "         -6.8054e-02,  5.0240e-02,  4.1203e-01,  6.8835e-02, -1.6805e-01],\n",
              "        [ 1.2486e-01,  1.5773e-03,  2.2006e-01,  6.9534e-03,  4.7158e-02,\n",
              "          3.8478e-02,  6.4288e-02,  3.5064e-01, -1.5634e-01,  1.9361e-01],\n",
              "        [-3.4080e-02,  3.3947e-02,  1.7223e-01, -3.9365e-02, -2.5944e-02,\n",
              "          5.8411e-02,  2.0597e-02,  3.1134e-01, -1.3523e-01, -1.4756e-01],\n",
              "        [ 4.3721e-02,  1.7018e-01,  1.8349e-01, -1.6828e-01, -2.6191e-02,\n",
              "          2.4521e-02,  1.5730e-01,  1.0764e-01, -2.8994e-02,  1.1429e-01],\n",
              "        [-1.7153e-01, -1.2883e-01,  1.2521e-01, -1.5762e-01,  6.1520e-02,\n",
              "         -2.0271e-02,  2.4796e-01,  1.4584e-01,  3.5490e-02, -1.4658e-01],\n",
              "        [ 6.8307e-02, -2.3262e-02,  2.4053e-01, -6.5206e-02, -2.4972e-02,\n",
              "          6.1522e-02, -9.0345e-02,  3.4184e-01,  7.5494e-02,  3.7120e-02],\n",
              "        [-2.2136e-02,  1.7269e-01,  3.5337e-01, -1.0829e-01,  1.2508e-01,\n",
              "         -1.0565e-01,  5.1053e-02,  6.1118e-01, -2.7460e-02,  2.9595e-03],\n",
              "        [-1.2795e-01, -1.4250e-01,  2.0100e-01,  5.4376e-02, -1.6199e-01,\n",
              "         -4.0031e-02,  1.4931e-01,  2.1825e-01,  4.7807e-02,  3.7223e-02],\n",
              "        [-4.2624e-02,  2.3639e-01,  1.2058e-01, -2.9112e-02, -1.5244e-01,\n",
              "          8.6789e-02, -3.6490e-02,  1.9614e-01, -3.1693e-02,  6.3785e-02],\n",
              "        [-1.6873e-01, -7.0437e-02,  2.5024e-01, -1.4919e-01, -5.2257e-02,\n",
              "          1.3130e-01,  3.7204e-02,  1.2932e-01,  2.0659e-01, -2.0452e-02],\n",
              "        [-1.9546e-01,  3.4599e-02,  7.8210e-02,  4.7850e-02,  3.7967e-02,\n",
              "          1.2248e-01, -1.0536e-02,  3.8369e-01,  5.3765e-02, -5.2531e-02],\n",
              "        [ 1.7616e-01, -1.3697e-01,  1.7291e-01,  1.7193e-01, -1.4188e-01,\n",
              "          5.0379e-02,  1.1800e-01,  1.7342e-01, -5.4643e-02,  1.6812e-03],\n",
              "        [-1.5639e-01,  1.5167e-01,  9.9635e-02,  1.0567e-01,  1.1471e-01,\n",
              "          1.1979e-01, -5.3516e-02,  1.6993e-01, -1.1559e-02,  9.5164e-02],\n",
              "        [-1.4011e-01, -7.0982e-02,  1.3757e-01, -2.2534e-03, -2.5984e-01,\n",
              "          7.1995e-02,  1.2635e-01,  3.5664e-01, -1.6285e-02,  1.0988e-01],\n",
              "        [-1.7207e-01, -3.0080e-02,  2.2244e-02,  3.7910e-02, -8.2825e-02,\n",
              "         -5.6165e-02,  2.9171e-02,  2.4227e-01,  1.4057e-01,  1.6410e-01],\n",
              "        [-7.8354e-02,  2.9558e-03,  3.4577e-01, -1.1543e-01,  8.2466e-02,\n",
              "         -3.9978e-02,  2.2703e-01,  4.6941e-01, -7.4775e-02, -1.1652e-02],\n",
              "        [-9.3760e-02, -1.0455e-01,  1.6139e-01,  6.8475e-02, -9.0960e-02,\n",
              "         -1.2101e-01,  1.1490e-01,  2.6472e-01,  3.6035e-02,  5.2320e-02],\n",
              "        [-1.0984e-01, -2.3984e-01,  1.4091e-01, -2.3451e-01, -6.1674e-03,\n",
              "         -2.3069e-03,  2.0354e-01,  3.5093e-01, -1.2188e-01,  2.9821e-01],\n",
              "        [-2.1790e-01, -1.1503e-03,  1.5475e-01, -4.5346e-02,  2.4256e-02,\n",
              "          7.5750e-02,  1.7601e-01,  1.6768e-01,  3.8073e-02,  1.4915e-01],\n",
              "        [ 5.6337e-02,  4.8561e-03,  2.6659e-01, -2.0009e-01, -1.5574e-01,\n",
              "          1.9413e-02,  5.1776e-02,  1.8151e-01, -1.7920e-01,  3.0286e-02],\n",
              "        [-3.3224e-02, -5.3986e-02,  5.3108e-02, -5.8361e-02,  6.9472e-02,\n",
              "          2.0116e-01,  1.6911e-01,  2.4659e-01,  1.5743e-01, -7.2287e-02],\n",
              "        [-7.3350e-04, -4.6268e-02,  3.6812e-01, -5.0053e-02,  1.4393e-01,\n",
              "         -6.8794e-02,  9.9021e-02,  4.3614e-01, -1.2253e-01, -3.3096e-01],\n",
              "        [-1.0001e-01,  1.3400e-02,  5.2878e-02, -1.3955e-01,  9.1715e-02,\n",
              "         -8.1032e-02,  8.3036e-03,  1.7253e-01, -2.7443e-02, -9.3608e-02],\n",
              "        [-1.5421e-01,  6.6247e-03,  1.0496e-01, -1.2248e-01,  9.3702e-02,\n",
              "          1.4191e-02,  2.1661e-02,  2.3249e-01, -9.2357e-02,  7.7683e-02],\n",
              "        [-2.9320e-02,  1.1342e-01,  1.2583e-01, -4.2763e-02, -2.0044e-01,\n",
              "          1.0659e-01, -1.2765e-01,  3.9248e-01, -1.2383e-02,  6.0577e-02],\n",
              "        [-1.3643e-01, -1.6168e-01,  2.1994e-01, -8.5236e-02, -9.9367e-02,\n",
              "          9.3476e-03,  4.9581e-02,  2.5026e-01,  5.3975e-02,  1.9086e-01],\n",
              "        [ 2.5451e-02, -9.2124e-02,  1.1867e-01, -7.8557e-03, -3.3550e-02,\n",
              "          1.1243e-01, -7.3787e-02,  2.5330e-01,  1.7135e-01, -8.7353e-02],\n",
              "        [-1.6170e-01, -1.1557e-01,  1.7909e-01, -2.0619e-01,  1.4284e-01,\n",
              "          9.5087e-02,  1.0867e-01,  1.5640e-01, -6.7784e-02,  2.3967e-02],\n",
              "        [-8.7057e-02, -4.8388e-03,  2.6424e-01, -1.7609e-02, -1.3741e-01,\n",
              "          1.4362e-01,  1.5079e-01,  1.9652e-01, -2.2408e-01, -1.1541e-01],\n",
              "        [-7.5028e-02,  7.8618e-02,  2.6739e-01, -6.6362e-02,  2.0023e-01,\n",
              "         -1.2612e-01,  4.0608e-02,  3.2491e-01, -9.3766e-03,  3.2954e-01],\n",
              "        [-8.8216e-02,  7.3351e-02, -5.1444e-02, -2.1343e-02,  3.9142e-02,\n",
              "          2.8433e-01,  2.6167e-02,  4.3230e-01,  3.3090e-02,  7.7983e-03],\n",
              "        [-1.1476e-01, -1.1851e-01,  9.2111e-02, -1.3215e-01, -1.0328e-01,\n",
              "          4.3982e-02, -4.2366e-02,  3.0578e-01, -4.6293e-02, -4.3866e-02],\n",
              "        [ 1.8978e-01,  7.3925e-03,  2.0836e-01, -1.3595e-01, -6.5104e-02,\n",
              "          4.1644e-03, -1.5754e-01,  2.5445e-01,  1.0506e-01, -1.1184e-01],\n",
              "        [-5.1426e-02, -9.5855e-03,  1.6410e-01, -3.0639e-01, -2.5529e-01,\n",
              "         -6.1891e-02,  1.0847e-02,  1.9403e-01, -7.3575e-02, -1.2758e-01],\n",
              "        [-1.4284e-01,  3.7802e-01, -1.7975e-03, -1.7450e-01, -3.8973e-01,\n",
              "         -1.2966e-01,  4.3512e-02,  4.3418e-01,  3.1708e-02, -7.7657e-02],\n",
              "        [-3.2471e-02,  9.5220e-02, -6.6928e-02, -1.5945e-01, -1.1619e-02,\n",
              "          1.6528e-01,  3.4221e-01, -5.7889e-02, -9.3264e-02,  3.0223e-02],\n",
              "        [ 6.4486e-02,  7.5631e-02,  6.1836e-02, -5.9315e-02, -1.9819e-01,\n",
              "         -5.5184e-02,  1.5591e-01,  2.1375e-01,  3.3768e-02, -1.0136e-01],\n",
              "        [-5.4027e-02,  7.4705e-02,  1.1311e-01,  6.0101e-02,  1.9134e-01,\n",
              "          1.9203e-01, -5.0908e-02,  4.8875e-01,  1.1668e-01, -2.7231e-01],\n",
              "        [-1.6595e-01,  2.9702e-02,  1.2483e-01,  5.4408e-02, -1.0337e-02,\n",
              "          8.2461e-02,  6.0022e-02,  3.3062e-01,  1.1660e-01, -1.0964e-02],\n",
              "        [-1.9227e-01, -8.4319e-02,  1.1667e-01, -2.9396e-02,  6.6015e-02,\n",
              "         -1.4162e-02,  2.7203e-01,  2.7963e-01, -2.2738e-01, -2.3673e-02],\n",
              "        [-1.0014e-01, -3.8601e-02,  2.8276e-01, -5.9483e-03, -1.0801e-02,\n",
              "          1.0976e-01, -3.5677e-02,  5.8504e-01,  6.0386e-02,  1.6417e-02],\n",
              "        [ 8.2474e-03,  4.4344e-02,  1.7192e-01, -1.2316e-01, -1.1447e-01,\n",
              "         -2.0744e-01, -1.8911e-01,  9.1890e-03,  1.0071e-01, -1.5322e-01]],\n",
              "       device='cuda:0', grad_fn=<AddmmBackward0>)"
            ]
          },
          "metadata": {},
          "execution_count": 67
        }
      ]
    },
    {
      "cell_type": "code",
      "source": [],
      "metadata": {
        "id": "E1rQxVjc--fb"
      },
      "execution_count": null,
      "outputs": []
    },
    {
      "cell_type": "code",
      "source": [],
      "metadata": {
        "id": "XlWPgLhY--ax"
      },
      "execution_count": null,
      "outputs": []
    },
    {
      "cell_type": "markdown",
      "source": [
        "### Resnet 모델"
      ],
      "metadata": {
        "id": "JSdfFKN0_FI-"
      }
    },
    {
      "cell_type": "code",
      "source": [
        "torchvision.models.resnet152(pretrained=True)"
      ],
      "metadata": {
        "colab": {
          "base_uri": "https://localhost:8080/"
        },
        "id": "XLvelW2C4nYN",
        "outputId": "2d54d712-af3f-41bb-f9c0-5e6438f6aa61"
      },
      "execution_count": null,
      "outputs": [
        {
          "output_type": "stream",
          "name": "stderr",
          "text": [
            "/usr/local/lib/python3.10/dist-packages/torchvision/models/_utils.py:223: UserWarning: Arguments other than a weight enum or `None` for 'weights' are deprecated since 0.13 and may be removed in the future. The current behavior is equivalent to passing `weights=ResNet152_Weights.IMAGENET1K_V1`. You can also use `weights=ResNet152_Weights.DEFAULT` to get the most up-to-date weights.\n",
            "  warnings.warn(msg)\n"
          ]
        },
        {
          "output_type": "execute_result",
          "data": {
            "text/plain": [
              "ResNet(\n",
              "  (conv1): Conv2d(3, 64, kernel_size=(7, 7), stride=(2, 2), padding=(3, 3), bias=False)\n",
              "  (bn1): BatchNorm2d(64, eps=1e-05, momentum=0.1, affine=True, track_running_stats=True)\n",
              "  (relu): ReLU(inplace=True)\n",
              "  (maxpool): MaxPool2d(kernel_size=3, stride=2, padding=1, dilation=1, ceil_mode=False)\n",
              "  (layer1): Sequential(\n",
              "    (0): Bottleneck(\n",
              "      (conv1): Conv2d(64, 64, kernel_size=(1, 1), stride=(1, 1), bias=False)\n",
              "      (bn1): BatchNorm2d(64, eps=1e-05, momentum=0.1, affine=True, track_running_stats=True)\n",
              "      (conv2): Conv2d(64, 64, kernel_size=(3, 3), stride=(1, 1), padding=(1, 1), bias=False)\n",
              "      (bn2): BatchNorm2d(64, eps=1e-05, momentum=0.1, affine=True, track_running_stats=True)\n",
              "      (conv3): Conv2d(64, 256, kernel_size=(1, 1), stride=(1, 1), bias=False)\n",
              "      (bn3): BatchNorm2d(256, eps=1e-05, momentum=0.1, affine=True, track_running_stats=True)\n",
              "      (relu): ReLU(inplace=True)\n",
              "      (downsample): Sequential(\n",
              "        (0): Conv2d(64, 256, kernel_size=(1, 1), stride=(1, 1), bias=False)\n",
              "        (1): BatchNorm2d(256, eps=1e-05, momentum=0.1, affine=True, track_running_stats=True)\n",
              "      )\n",
              "    )\n",
              "    (1): Bottleneck(\n",
              "      (conv1): Conv2d(256, 64, kernel_size=(1, 1), stride=(1, 1), bias=False)\n",
              "      (bn1): BatchNorm2d(64, eps=1e-05, momentum=0.1, affine=True, track_running_stats=True)\n",
              "      (conv2): Conv2d(64, 64, kernel_size=(3, 3), stride=(1, 1), padding=(1, 1), bias=False)\n",
              "      (bn2): BatchNorm2d(64, eps=1e-05, momentum=0.1, affine=True, track_running_stats=True)\n",
              "      (conv3): Conv2d(64, 256, kernel_size=(1, 1), stride=(1, 1), bias=False)\n",
              "      (bn3): BatchNorm2d(256, eps=1e-05, momentum=0.1, affine=True, track_running_stats=True)\n",
              "      (relu): ReLU(inplace=True)\n",
              "    )\n",
              "    (2): Bottleneck(\n",
              "      (conv1): Conv2d(256, 64, kernel_size=(1, 1), stride=(1, 1), bias=False)\n",
              "      (bn1): BatchNorm2d(64, eps=1e-05, momentum=0.1, affine=True, track_running_stats=True)\n",
              "      (conv2): Conv2d(64, 64, kernel_size=(3, 3), stride=(1, 1), padding=(1, 1), bias=False)\n",
              "      (bn2): BatchNorm2d(64, eps=1e-05, momentum=0.1, affine=True, track_running_stats=True)\n",
              "      (conv3): Conv2d(64, 256, kernel_size=(1, 1), stride=(1, 1), bias=False)\n",
              "      (bn3): BatchNorm2d(256, eps=1e-05, momentum=0.1, affine=True, track_running_stats=True)\n",
              "      (relu): ReLU(inplace=True)\n",
              "    )\n",
              "  )\n",
              "  (layer2): Sequential(\n",
              "    (0): Bottleneck(\n",
              "      (conv1): Conv2d(256, 128, kernel_size=(1, 1), stride=(1, 1), bias=False)\n",
              "      (bn1): BatchNorm2d(128, eps=1e-05, momentum=0.1, affine=True, track_running_stats=True)\n",
              "      (conv2): Conv2d(128, 128, kernel_size=(3, 3), stride=(2, 2), padding=(1, 1), bias=False)\n",
              "      (bn2): BatchNorm2d(128, eps=1e-05, momentum=0.1, affine=True, track_running_stats=True)\n",
              "      (conv3): Conv2d(128, 512, kernel_size=(1, 1), stride=(1, 1), bias=False)\n",
              "      (bn3): BatchNorm2d(512, eps=1e-05, momentum=0.1, affine=True, track_running_stats=True)\n",
              "      (relu): ReLU(inplace=True)\n",
              "      (downsample): Sequential(\n",
              "        (0): Conv2d(256, 512, kernel_size=(1, 1), stride=(2, 2), bias=False)\n",
              "        (1): BatchNorm2d(512, eps=1e-05, momentum=0.1, affine=True, track_running_stats=True)\n",
              "      )\n",
              "    )\n",
              "    (1): Bottleneck(\n",
              "      (conv1): Conv2d(512, 128, kernel_size=(1, 1), stride=(1, 1), bias=False)\n",
              "      (bn1): BatchNorm2d(128, eps=1e-05, momentum=0.1, affine=True, track_running_stats=True)\n",
              "      (conv2): Conv2d(128, 128, kernel_size=(3, 3), stride=(1, 1), padding=(1, 1), bias=False)\n",
              "      (bn2): BatchNorm2d(128, eps=1e-05, momentum=0.1, affine=True, track_running_stats=True)\n",
              "      (conv3): Conv2d(128, 512, kernel_size=(1, 1), stride=(1, 1), bias=False)\n",
              "      (bn3): BatchNorm2d(512, eps=1e-05, momentum=0.1, affine=True, track_running_stats=True)\n",
              "      (relu): ReLU(inplace=True)\n",
              "    )\n",
              "    (2): Bottleneck(\n",
              "      (conv1): Conv2d(512, 128, kernel_size=(1, 1), stride=(1, 1), bias=False)\n",
              "      (bn1): BatchNorm2d(128, eps=1e-05, momentum=0.1, affine=True, track_running_stats=True)\n",
              "      (conv2): Conv2d(128, 128, kernel_size=(3, 3), stride=(1, 1), padding=(1, 1), bias=False)\n",
              "      (bn2): BatchNorm2d(128, eps=1e-05, momentum=0.1, affine=True, track_running_stats=True)\n",
              "      (conv3): Conv2d(128, 512, kernel_size=(1, 1), stride=(1, 1), bias=False)\n",
              "      (bn3): BatchNorm2d(512, eps=1e-05, momentum=0.1, affine=True, track_running_stats=True)\n",
              "      (relu): ReLU(inplace=True)\n",
              "    )\n",
              "    (3): Bottleneck(\n",
              "      (conv1): Conv2d(512, 128, kernel_size=(1, 1), stride=(1, 1), bias=False)\n",
              "      (bn1): BatchNorm2d(128, eps=1e-05, momentum=0.1, affine=True, track_running_stats=True)\n",
              "      (conv2): Conv2d(128, 128, kernel_size=(3, 3), stride=(1, 1), padding=(1, 1), bias=False)\n",
              "      (bn2): BatchNorm2d(128, eps=1e-05, momentum=0.1, affine=True, track_running_stats=True)\n",
              "      (conv3): Conv2d(128, 512, kernel_size=(1, 1), stride=(1, 1), bias=False)\n",
              "      (bn3): BatchNorm2d(512, eps=1e-05, momentum=0.1, affine=True, track_running_stats=True)\n",
              "      (relu): ReLU(inplace=True)\n",
              "    )\n",
              "    (4): Bottleneck(\n",
              "      (conv1): Conv2d(512, 128, kernel_size=(1, 1), stride=(1, 1), bias=False)\n",
              "      (bn1): BatchNorm2d(128, eps=1e-05, momentum=0.1, affine=True, track_running_stats=True)\n",
              "      (conv2): Conv2d(128, 128, kernel_size=(3, 3), stride=(1, 1), padding=(1, 1), bias=False)\n",
              "      (bn2): BatchNorm2d(128, eps=1e-05, momentum=0.1, affine=True, track_running_stats=True)\n",
              "      (conv3): Conv2d(128, 512, kernel_size=(1, 1), stride=(1, 1), bias=False)\n",
              "      (bn3): BatchNorm2d(512, eps=1e-05, momentum=0.1, affine=True, track_running_stats=True)\n",
              "      (relu): ReLU(inplace=True)\n",
              "    )\n",
              "    (5): Bottleneck(\n",
              "      (conv1): Conv2d(512, 128, kernel_size=(1, 1), stride=(1, 1), bias=False)\n",
              "      (bn1): BatchNorm2d(128, eps=1e-05, momentum=0.1, affine=True, track_running_stats=True)\n",
              "      (conv2): Conv2d(128, 128, kernel_size=(3, 3), stride=(1, 1), padding=(1, 1), bias=False)\n",
              "      (bn2): BatchNorm2d(128, eps=1e-05, momentum=0.1, affine=True, track_running_stats=True)\n",
              "      (conv3): Conv2d(128, 512, kernel_size=(1, 1), stride=(1, 1), bias=False)\n",
              "      (bn3): BatchNorm2d(512, eps=1e-05, momentum=0.1, affine=True, track_running_stats=True)\n",
              "      (relu): ReLU(inplace=True)\n",
              "    )\n",
              "    (6): Bottleneck(\n",
              "      (conv1): Conv2d(512, 128, kernel_size=(1, 1), stride=(1, 1), bias=False)\n",
              "      (bn1): BatchNorm2d(128, eps=1e-05, momentum=0.1, affine=True, track_running_stats=True)\n",
              "      (conv2): Conv2d(128, 128, kernel_size=(3, 3), stride=(1, 1), padding=(1, 1), bias=False)\n",
              "      (bn2): BatchNorm2d(128, eps=1e-05, momentum=0.1, affine=True, track_running_stats=True)\n",
              "      (conv3): Conv2d(128, 512, kernel_size=(1, 1), stride=(1, 1), bias=False)\n",
              "      (bn3): BatchNorm2d(512, eps=1e-05, momentum=0.1, affine=True, track_running_stats=True)\n",
              "      (relu): ReLU(inplace=True)\n",
              "    )\n",
              "    (7): Bottleneck(\n",
              "      (conv1): Conv2d(512, 128, kernel_size=(1, 1), stride=(1, 1), bias=False)\n",
              "      (bn1): BatchNorm2d(128, eps=1e-05, momentum=0.1, affine=True, track_running_stats=True)\n",
              "      (conv2): Conv2d(128, 128, kernel_size=(3, 3), stride=(1, 1), padding=(1, 1), bias=False)\n",
              "      (bn2): BatchNorm2d(128, eps=1e-05, momentum=0.1, affine=True, track_running_stats=True)\n",
              "      (conv3): Conv2d(128, 512, kernel_size=(1, 1), stride=(1, 1), bias=False)\n",
              "      (bn3): BatchNorm2d(512, eps=1e-05, momentum=0.1, affine=True, track_running_stats=True)\n",
              "      (relu): ReLU(inplace=True)\n",
              "    )\n",
              "  )\n",
              "  (layer3): Sequential(\n",
              "    (0): Bottleneck(\n",
              "      (conv1): Conv2d(512, 256, kernel_size=(1, 1), stride=(1, 1), bias=False)\n",
              "      (bn1): BatchNorm2d(256, eps=1e-05, momentum=0.1, affine=True, track_running_stats=True)\n",
              "      (conv2): Conv2d(256, 256, kernel_size=(3, 3), stride=(2, 2), padding=(1, 1), bias=False)\n",
              "      (bn2): BatchNorm2d(256, eps=1e-05, momentum=0.1, affine=True, track_running_stats=True)\n",
              "      (conv3): Conv2d(256, 1024, kernel_size=(1, 1), stride=(1, 1), bias=False)\n",
              "      (bn3): BatchNorm2d(1024, eps=1e-05, momentum=0.1, affine=True, track_running_stats=True)\n",
              "      (relu): ReLU(inplace=True)\n",
              "      (downsample): Sequential(\n",
              "        (0): Conv2d(512, 1024, kernel_size=(1, 1), stride=(2, 2), bias=False)\n",
              "        (1): BatchNorm2d(1024, eps=1e-05, momentum=0.1, affine=True, track_running_stats=True)\n",
              "      )\n",
              "    )\n",
              "    (1): Bottleneck(\n",
              "      (conv1): Conv2d(1024, 256, kernel_size=(1, 1), stride=(1, 1), bias=False)\n",
              "      (bn1): BatchNorm2d(256, eps=1e-05, momentum=0.1, affine=True, track_running_stats=True)\n",
              "      (conv2): Conv2d(256, 256, kernel_size=(3, 3), stride=(1, 1), padding=(1, 1), bias=False)\n",
              "      (bn2): BatchNorm2d(256, eps=1e-05, momentum=0.1, affine=True, track_running_stats=True)\n",
              "      (conv3): Conv2d(256, 1024, kernel_size=(1, 1), stride=(1, 1), bias=False)\n",
              "      (bn3): BatchNorm2d(1024, eps=1e-05, momentum=0.1, affine=True, track_running_stats=True)\n",
              "      (relu): ReLU(inplace=True)\n",
              "    )\n",
              "    (2): Bottleneck(\n",
              "      (conv1): Conv2d(1024, 256, kernel_size=(1, 1), stride=(1, 1), bias=False)\n",
              "      (bn1): BatchNorm2d(256, eps=1e-05, momentum=0.1, affine=True, track_running_stats=True)\n",
              "      (conv2): Conv2d(256, 256, kernel_size=(3, 3), stride=(1, 1), padding=(1, 1), bias=False)\n",
              "      (bn2): BatchNorm2d(256, eps=1e-05, momentum=0.1, affine=True, track_running_stats=True)\n",
              "      (conv3): Conv2d(256, 1024, kernel_size=(1, 1), stride=(1, 1), bias=False)\n",
              "      (bn3): BatchNorm2d(1024, eps=1e-05, momentum=0.1, affine=True, track_running_stats=True)\n",
              "      (relu): ReLU(inplace=True)\n",
              "    )\n",
              "    (3): Bottleneck(\n",
              "      (conv1): Conv2d(1024, 256, kernel_size=(1, 1), stride=(1, 1), bias=False)\n",
              "      (bn1): BatchNorm2d(256, eps=1e-05, momentum=0.1, affine=True, track_running_stats=True)\n",
              "      (conv2): Conv2d(256, 256, kernel_size=(3, 3), stride=(1, 1), padding=(1, 1), bias=False)\n",
              "      (bn2): BatchNorm2d(256, eps=1e-05, momentum=0.1, affine=True, track_running_stats=True)\n",
              "      (conv3): Conv2d(256, 1024, kernel_size=(1, 1), stride=(1, 1), bias=False)\n",
              "      (bn3): BatchNorm2d(1024, eps=1e-05, momentum=0.1, affine=True, track_running_stats=True)\n",
              "      (relu): ReLU(inplace=True)\n",
              "    )\n",
              "    (4): Bottleneck(\n",
              "      (conv1): Conv2d(1024, 256, kernel_size=(1, 1), stride=(1, 1), bias=False)\n",
              "      (bn1): BatchNorm2d(256, eps=1e-05, momentum=0.1, affine=True, track_running_stats=True)\n",
              "      (conv2): Conv2d(256, 256, kernel_size=(3, 3), stride=(1, 1), padding=(1, 1), bias=False)\n",
              "      (bn2): BatchNorm2d(256, eps=1e-05, momentum=0.1, affine=True, track_running_stats=True)\n",
              "      (conv3): Conv2d(256, 1024, kernel_size=(1, 1), stride=(1, 1), bias=False)\n",
              "      (bn3): BatchNorm2d(1024, eps=1e-05, momentum=0.1, affine=True, track_running_stats=True)\n",
              "      (relu): ReLU(inplace=True)\n",
              "    )\n",
              "    (5): Bottleneck(\n",
              "      (conv1): Conv2d(1024, 256, kernel_size=(1, 1), stride=(1, 1), bias=False)\n",
              "      (bn1): BatchNorm2d(256, eps=1e-05, momentum=0.1, affine=True, track_running_stats=True)\n",
              "      (conv2): Conv2d(256, 256, kernel_size=(3, 3), stride=(1, 1), padding=(1, 1), bias=False)\n",
              "      (bn2): BatchNorm2d(256, eps=1e-05, momentum=0.1, affine=True, track_running_stats=True)\n",
              "      (conv3): Conv2d(256, 1024, kernel_size=(1, 1), stride=(1, 1), bias=False)\n",
              "      (bn3): BatchNorm2d(1024, eps=1e-05, momentum=0.1, affine=True, track_running_stats=True)\n",
              "      (relu): ReLU(inplace=True)\n",
              "    )\n",
              "    (6): Bottleneck(\n",
              "      (conv1): Conv2d(1024, 256, kernel_size=(1, 1), stride=(1, 1), bias=False)\n",
              "      (bn1): BatchNorm2d(256, eps=1e-05, momentum=0.1, affine=True, track_running_stats=True)\n",
              "      (conv2): Conv2d(256, 256, kernel_size=(3, 3), stride=(1, 1), padding=(1, 1), bias=False)\n",
              "      (bn2): BatchNorm2d(256, eps=1e-05, momentum=0.1, affine=True, track_running_stats=True)\n",
              "      (conv3): Conv2d(256, 1024, kernel_size=(1, 1), stride=(1, 1), bias=False)\n",
              "      (bn3): BatchNorm2d(1024, eps=1e-05, momentum=0.1, affine=True, track_running_stats=True)\n",
              "      (relu): ReLU(inplace=True)\n",
              "    )\n",
              "    (7): Bottleneck(\n",
              "      (conv1): Conv2d(1024, 256, kernel_size=(1, 1), stride=(1, 1), bias=False)\n",
              "      (bn1): BatchNorm2d(256, eps=1e-05, momentum=0.1, affine=True, track_running_stats=True)\n",
              "      (conv2): Conv2d(256, 256, kernel_size=(3, 3), stride=(1, 1), padding=(1, 1), bias=False)\n",
              "      (bn2): BatchNorm2d(256, eps=1e-05, momentum=0.1, affine=True, track_running_stats=True)\n",
              "      (conv3): Conv2d(256, 1024, kernel_size=(1, 1), stride=(1, 1), bias=False)\n",
              "      (bn3): BatchNorm2d(1024, eps=1e-05, momentum=0.1, affine=True, track_running_stats=True)\n",
              "      (relu): ReLU(inplace=True)\n",
              "    )\n",
              "    (8): Bottleneck(\n",
              "      (conv1): Conv2d(1024, 256, kernel_size=(1, 1), stride=(1, 1), bias=False)\n",
              "      (bn1): BatchNorm2d(256, eps=1e-05, momentum=0.1, affine=True, track_running_stats=True)\n",
              "      (conv2): Conv2d(256, 256, kernel_size=(3, 3), stride=(1, 1), padding=(1, 1), bias=False)\n",
              "      (bn2): BatchNorm2d(256, eps=1e-05, momentum=0.1, affine=True, track_running_stats=True)\n",
              "      (conv3): Conv2d(256, 1024, kernel_size=(1, 1), stride=(1, 1), bias=False)\n",
              "      (bn3): BatchNorm2d(1024, eps=1e-05, momentum=0.1, affine=True, track_running_stats=True)\n",
              "      (relu): ReLU(inplace=True)\n",
              "    )\n",
              "    (9): Bottleneck(\n",
              "      (conv1): Conv2d(1024, 256, kernel_size=(1, 1), stride=(1, 1), bias=False)\n",
              "      (bn1): BatchNorm2d(256, eps=1e-05, momentum=0.1, affine=True, track_running_stats=True)\n",
              "      (conv2): Conv2d(256, 256, kernel_size=(3, 3), stride=(1, 1), padding=(1, 1), bias=False)\n",
              "      (bn2): BatchNorm2d(256, eps=1e-05, momentum=0.1, affine=True, track_running_stats=True)\n",
              "      (conv3): Conv2d(256, 1024, kernel_size=(1, 1), stride=(1, 1), bias=False)\n",
              "      (bn3): BatchNorm2d(1024, eps=1e-05, momentum=0.1, affine=True, track_running_stats=True)\n",
              "      (relu): ReLU(inplace=True)\n",
              "    )\n",
              "    (10): Bottleneck(\n",
              "      (conv1): Conv2d(1024, 256, kernel_size=(1, 1), stride=(1, 1), bias=False)\n",
              "      (bn1): BatchNorm2d(256, eps=1e-05, momentum=0.1, affine=True, track_running_stats=True)\n",
              "      (conv2): Conv2d(256, 256, kernel_size=(3, 3), stride=(1, 1), padding=(1, 1), bias=False)\n",
              "      (bn2): BatchNorm2d(256, eps=1e-05, momentum=0.1, affine=True, track_running_stats=True)\n",
              "      (conv3): Conv2d(256, 1024, kernel_size=(1, 1), stride=(1, 1), bias=False)\n",
              "      (bn3): BatchNorm2d(1024, eps=1e-05, momentum=0.1, affine=True, track_running_stats=True)\n",
              "      (relu): ReLU(inplace=True)\n",
              "    )\n",
              "    (11): Bottleneck(\n",
              "      (conv1): Conv2d(1024, 256, kernel_size=(1, 1), stride=(1, 1), bias=False)\n",
              "      (bn1): BatchNorm2d(256, eps=1e-05, momentum=0.1, affine=True, track_running_stats=True)\n",
              "      (conv2): Conv2d(256, 256, kernel_size=(3, 3), stride=(1, 1), padding=(1, 1), bias=False)\n",
              "      (bn2): BatchNorm2d(256, eps=1e-05, momentum=0.1, affine=True, track_running_stats=True)\n",
              "      (conv3): Conv2d(256, 1024, kernel_size=(1, 1), stride=(1, 1), bias=False)\n",
              "      (bn3): BatchNorm2d(1024, eps=1e-05, momentum=0.1, affine=True, track_running_stats=True)\n",
              "      (relu): ReLU(inplace=True)\n",
              "    )\n",
              "    (12): Bottleneck(\n",
              "      (conv1): Conv2d(1024, 256, kernel_size=(1, 1), stride=(1, 1), bias=False)\n",
              "      (bn1): BatchNorm2d(256, eps=1e-05, momentum=0.1, affine=True, track_running_stats=True)\n",
              "      (conv2): Conv2d(256, 256, kernel_size=(3, 3), stride=(1, 1), padding=(1, 1), bias=False)\n",
              "      (bn2): BatchNorm2d(256, eps=1e-05, momentum=0.1, affine=True, track_running_stats=True)\n",
              "      (conv3): Conv2d(256, 1024, kernel_size=(1, 1), stride=(1, 1), bias=False)\n",
              "      (bn3): BatchNorm2d(1024, eps=1e-05, momentum=0.1, affine=True, track_running_stats=True)\n",
              "      (relu): ReLU(inplace=True)\n",
              "    )\n",
              "    (13): Bottleneck(\n",
              "      (conv1): Conv2d(1024, 256, kernel_size=(1, 1), stride=(1, 1), bias=False)\n",
              "      (bn1): BatchNorm2d(256, eps=1e-05, momentum=0.1, affine=True, track_running_stats=True)\n",
              "      (conv2): Conv2d(256, 256, kernel_size=(3, 3), stride=(1, 1), padding=(1, 1), bias=False)\n",
              "      (bn2): BatchNorm2d(256, eps=1e-05, momentum=0.1, affine=True, track_running_stats=True)\n",
              "      (conv3): Conv2d(256, 1024, kernel_size=(1, 1), stride=(1, 1), bias=False)\n",
              "      (bn3): BatchNorm2d(1024, eps=1e-05, momentum=0.1, affine=True, track_running_stats=True)\n",
              "      (relu): ReLU(inplace=True)\n",
              "    )\n",
              "    (14): Bottleneck(\n",
              "      (conv1): Conv2d(1024, 256, kernel_size=(1, 1), stride=(1, 1), bias=False)\n",
              "      (bn1): BatchNorm2d(256, eps=1e-05, momentum=0.1, affine=True, track_running_stats=True)\n",
              "      (conv2): Conv2d(256, 256, kernel_size=(3, 3), stride=(1, 1), padding=(1, 1), bias=False)\n",
              "      (bn2): BatchNorm2d(256, eps=1e-05, momentum=0.1, affine=True, track_running_stats=True)\n",
              "      (conv3): Conv2d(256, 1024, kernel_size=(1, 1), stride=(1, 1), bias=False)\n",
              "      (bn3): BatchNorm2d(1024, eps=1e-05, momentum=0.1, affine=True, track_running_stats=True)\n",
              "      (relu): ReLU(inplace=True)\n",
              "    )\n",
              "    (15): Bottleneck(\n",
              "      (conv1): Conv2d(1024, 256, kernel_size=(1, 1), stride=(1, 1), bias=False)\n",
              "      (bn1): BatchNorm2d(256, eps=1e-05, momentum=0.1, affine=True, track_running_stats=True)\n",
              "      (conv2): Conv2d(256, 256, kernel_size=(3, 3), stride=(1, 1), padding=(1, 1), bias=False)\n",
              "      (bn2): BatchNorm2d(256, eps=1e-05, momentum=0.1, affine=True, track_running_stats=True)\n",
              "      (conv3): Conv2d(256, 1024, kernel_size=(1, 1), stride=(1, 1), bias=False)\n",
              "      (bn3): BatchNorm2d(1024, eps=1e-05, momentum=0.1, affine=True, track_running_stats=True)\n",
              "      (relu): ReLU(inplace=True)\n",
              "    )\n",
              "    (16): Bottleneck(\n",
              "      (conv1): Conv2d(1024, 256, kernel_size=(1, 1), stride=(1, 1), bias=False)\n",
              "      (bn1): BatchNorm2d(256, eps=1e-05, momentum=0.1, affine=True, track_running_stats=True)\n",
              "      (conv2): Conv2d(256, 256, kernel_size=(3, 3), stride=(1, 1), padding=(1, 1), bias=False)\n",
              "      (bn2): BatchNorm2d(256, eps=1e-05, momentum=0.1, affine=True, track_running_stats=True)\n",
              "      (conv3): Conv2d(256, 1024, kernel_size=(1, 1), stride=(1, 1), bias=False)\n",
              "      (bn3): BatchNorm2d(1024, eps=1e-05, momentum=0.1, affine=True, track_running_stats=True)\n",
              "      (relu): ReLU(inplace=True)\n",
              "    )\n",
              "    (17): Bottleneck(\n",
              "      (conv1): Conv2d(1024, 256, kernel_size=(1, 1), stride=(1, 1), bias=False)\n",
              "      (bn1): BatchNorm2d(256, eps=1e-05, momentum=0.1, affine=True, track_running_stats=True)\n",
              "      (conv2): Conv2d(256, 256, kernel_size=(3, 3), stride=(1, 1), padding=(1, 1), bias=False)\n",
              "      (bn2): BatchNorm2d(256, eps=1e-05, momentum=0.1, affine=True, track_running_stats=True)\n",
              "      (conv3): Conv2d(256, 1024, kernel_size=(1, 1), stride=(1, 1), bias=False)\n",
              "      (bn3): BatchNorm2d(1024, eps=1e-05, momentum=0.1, affine=True, track_running_stats=True)\n",
              "      (relu): ReLU(inplace=True)\n",
              "    )\n",
              "    (18): Bottleneck(\n",
              "      (conv1): Conv2d(1024, 256, kernel_size=(1, 1), stride=(1, 1), bias=False)\n",
              "      (bn1): BatchNorm2d(256, eps=1e-05, momentum=0.1, affine=True, track_running_stats=True)\n",
              "      (conv2): Conv2d(256, 256, kernel_size=(3, 3), stride=(1, 1), padding=(1, 1), bias=False)\n",
              "      (bn2): BatchNorm2d(256, eps=1e-05, momentum=0.1, affine=True, track_running_stats=True)\n",
              "      (conv3): Conv2d(256, 1024, kernel_size=(1, 1), stride=(1, 1), bias=False)\n",
              "      (bn3): BatchNorm2d(1024, eps=1e-05, momentum=0.1, affine=True, track_running_stats=True)\n",
              "      (relu): ReLU(inplace=True)\n",
              "    )\n",
              "    (19): Bottleneck(\n",
              "      (conv1): Conv2d(1024, 256, kernel_size=(1, 1), stride=(1, 1), bias=False)\n",
              "      (bn1): BatchNorm2d(256, eps=1e-05, momentum=0.1, affine=True, track_running_stats=True)\n",
              "      (conv2): Conv2d(256, 256, kernel_size=(3, 3), stride=(1, 1), padding=(1, 1), bias=False)\n",
              "      (bn2): BatchNorm2d(256, eps=1e-05, momentum=0.1, affine=True, track_running_stats=True)\n",
              "      (conv3): Conv2d(256, 1024, kernel_size=(1, 1), stride=(1, 1), bias=False)\n",
              "      (bn3): BatchNorm2d(1024, eps=1e-05, momentum=0.1, affine=True, track_running_stats=True)\n",
              "      (relu): ReLU(inplace=True)\n",
              "    )\n",
              "    (20): Bottleneck(\n",
              "      (conv1): Conv2d(1024, 256, kernel_size=(1, 1), stride=(1, 1), bias=False)\n",
              "      (bn1): BatchNorm2d(256, eps=1e-05, momentum=0.1, affine=True, track_running_stats=True)\n",
              "      (conv2): Conv2d(256, 256, kernel_size=(3, 3), stride=(1, 1), padding=(1, 1), bias=False)\n",
              "      (bn2): BatchNorm2d(256, eps=1e-05, momentum=0.1, affine=True, track_running_stats=True)\n",
              "      (conv3): Conv2d(256, 1024, kernel_size=(1, 1), stride=(1, 1), bias=False)\n",
              "      (bn3): BatchNorm2d(1024, eps=1e-05, momentum=0.1, affine=True, track_running_stats=True)\n",
              "      (relu): ReLU(inplace=True)\n",
              "    )\n",
              "    (21): Bottleneck(\n",
              "      (conv1): Conv2d(1024, 256, kernel_size=(1, 1), stride=(1, 1), bias=False)\n",
              "      (bn1): BatchNorm2d(256, eps=1e-05, momentum=0.1, affine=True, track_running_stats=True)\n",
              "      (conv2): Conv2d(256, 256, kernel_size=(3, 3), stride=(1, 1), padding=(1, 1), bias=False)\n",
              "      (bn2): BatchNorm2d(256, eps=1e-05, momentum=0.1, affine=True, track_running_stats=True)\n",
              "      (conv3): Conv2d(256, 1024, kernel_size=(1, 1), stride=(1, 1), bias=False)\n",
              "      (bn3): BatchNorm2d(1024, eps=1e-05, momentum=0.1, affine=True, track_running_stats=True)\n",
              "      (relu): ReLU(inplace=True)\n",
              "    )\n",
              "    (22): Bottleneck(\n",
              "      (conv1): Conv2d(1024, 256, kernel_size=(1, 1), stride=(1, 1), bias=False)\n",
              "      (bn1): BatchNorm2d(256, eps=1e-05, momentum=0.1, affine=True, track_running_stats=True)\n",
              "      (conv2): Conv2d(256, 256, kernel_size=(3, 3), stride=(1, 1), padding=(1, 1), bias=False)\n",
              "      (bn2): BatchNorm2d(256, eps=1e-05, momentum=0.1, affine=True, track_running_stats=True)\n",
              "      (conv3): Conv2d(256, 1024, kernel_size=(1, 1), stride=(1, 1), bias=False)\n",
              "      (bn3): BatchNorm2d(1024, eps=1e-05, momentum=0.1, affine=True, track_running_stats=True)\n",
              "      (relu): ReLU(inplace=True)\n",
              "    )\n",
              "    (23): Bottleneck(\n",
              "      (conv1): Conv2d(1024, 256, kernel_size=(1, 1), stride=(1, 1), bias=False)\n",
              "      (bn1): BatchNorm2d(256, eps=1e-05, momentum=0.1, affine=True, track_running_stats=True)\n",
              "      (conv2): Conv2d(256, 256, kernel_size=(3, 3), stride=(1, 1), padding=(1, 1), bias=False)\n",
              "      (bn2): BatchNorm2d(256, eps=1e-05, momentum=0.1, affine=True, track_running_stats=True)\n",
              "      (conv3): Conv2d(256, 1024, kernel_size=(1, 1), stride=(1, 1), bias=False)\n",
              "      (bn3): BatchNorm2d(1024, eps=1e-05, momentum=0.1, affine=True, track_running_stats=True)\n",
              "      (relu): ReLU(inplace=True)\n",
              "    )\n",
              "    (24): Bottleneck(\n",
              "      (conv1): Conv2d(1024, 256, kernel_size=(1, 1), stride=(1, 1), bias=False)\n",
              "      (bn1): BatchNorm2d(256, eps=1e-05, momentum=0.1, affine=True, track_running_stats=True)\n",
              "      (conv2): Conv2d(256, 256, kernel_size=(3, 3), stride=(1, 1), padding=(1, 1), bias=False)\n",
              "      (bn2): BatchNorm2d(256, eps=1e-05, momentum=0.1, affine=True, track_running_stats=True)\n",
              "      (conv3): Conv2d(256, 1024, kernel_size=(1, 1), stride=(1, 1), bias=False)\n",
              "      (bn3): BatchNorm2d(1024, eps=1e-05, momentum=0.1, affine=True, track_running_stats=True)\n",
              "      (relu): ReLU(inplace=True)\n",
              "    )\n",
              "    (25): Bottleneck(\n",
              "      (conv1): Conv2d(1024, 256, kernel_size=(1, 1), stride=(1, 1), bias=False)\n",
              "      (bn1): BatchNorm2d(256, eps=1e-05, momentum=0.1, affine=True, track_running_stats=True)\n",
              "      (conv2): Conv2d(256, 256, kernel_size=(3, 3), stride=(1, 1), padding=(1, 1), bias=False)\n",
              "      (bn2): BatchNorm2d(256, eps=1e-05, momentum=0.1, affine=True, track_running_stats=True)\n",
              "      (conv3): Conv2d(256, 1024, kernel_size=(1, 1), stride=(1, 1), bias=False)\n",
              "      (bn3): BatchNorm2d(1024, eps=1e-05, momentum=0.1, affine=True, track_running_stats=True)\n",
              "      (relu): ReLU(inplace=True)\n",
              "    )\n",
              "    (26): Bottleneck(\n",
              "      (conv1): Conv2d(1024, 256, kernel_size=(1, 1), stride=(1, 1), bias=False)\n",
              "      (bn1): BatchNorm2d(256, eps=1e-05, momentum=0.1, affine=True, track_running_stats=True)\n",
              "      (conv2): Conv2d(256, 256, kernel_size=(3, 3), stride=(1, 1), padding=(1, 1), bias=False)\n",
              "      (bn2): BatchNorm2d(256, eps=1e-05, momentum=0.1, affine=True, track_running_stats=True)\n",
              "      (conv3): Conv2d(256, 1024, kernel_size=(1, 1), stride=(1, 1), bias=False)\n",
              "      (bn3): BatchNorm2d(1024, eps=1e-05, momentum=0.1, affine=True, track_running_stats=True)\n",
              "      (relu): ReLU(inplace=True)\n",
              "    )\n",
              "    (27): Bottleneck(\n",
              "      (conv1): Conv2d(1024, 256, kernel_size=(1, 1), stride=(1, 1), bias=False)\n",
              "      (bn1): BatchNorm2d(256, eps=1e-05, momentum=0.1, affine=True, track_running_stats=True)\n",
              "      (conv2): Conv2d(256, 256, kernel_size=(3, 3), stride=(1, 1), padding=(1, 1), bias=False)\n",
              "      (bn2): BatchNorm2d(256, eps=1e-05, momentum=0.1, affine=True, track_running_stats=True)\n",
              "      (conv3): Conv2d(256, 1024, kernel_size=(1, 1), stride=(1, 1), bias=False)\n",
              "      (bn3): BatchNorm2d(1024, eps=1e-05, momentum=0.1, affine=True, track_running_stats=True)\n",
              "      (relu): ReLU(inplace=True)\n",
              "    )\n",
              "    (28): Bottleneck(\n",
              "      (conv1): Conv2d(1024, 256, kernel_size=(1, 1), stride=(1, 1), bias=False)\n",
              "      (bn1): BatchNorm2d(256, eps=1e-05, momentum=0.1, affine=True, track_running_stats=True)\n",
              "      (conv2): Conv2d(256, 256, kernel_size=(3, 3), stride=(1, 1), padding=(1, 1), bias=False)\n",
              "      (bn2): BatchNorm2d(256, eps=1e-05, momentum=0.1, affine=True, track_running_stats=True)\n",
              "      (conv3): Conv2d(256, 1024, kernel_size=(1, 1), stride=(1, 1), bias=False)\n",
              "      (bn3): BatchNorm2d(1024, eps=1e-05, momentum=0.1, affine=True, track_running_stats=True)\n",
              "      (relu): ReLU(inplace=True)\n",
              "    )\n",
              "    (29): Bottleneck(\n",
              "      (conv1): Conv2d(1024, 256, kernel_size=(1, 1), stride=(1, 1), bias=False)\n",
              "      (bn1): BatchNorm2d(256, eps=1e-05, momentum=0.1, affine=True, track_running_stats=True)\n",
              "      (conv2): Conv2d(256, 256, kernel_size=(3, 3), stride=(1, 1), padding=(1, 1), bias=False)\n",
              "      (bn2): BatchNorm2d(256, eps=1e-05, momentum=0.1, affine=True, track_running_stats=True)\n",
              "      (conv3): Conv2d(256, 1024, kernel_size=(1, 1), stride=(1, 1), bias=False)\n",
              "      (bn3): BatchNorm2d(1024, eps=1e-05, momentum=0.1, affine=True, track_running_stats=True)\n",
              "      (relu): ReLU(inplace=True)\n",
              "    )\n",
              "    (30): Bottleneck(\n",
              "      (conv1): Conv2d(1024, 256, kernel_size=(1, 1), stride=(1, 1), bias=False)\n",
              "      (bn1): BatchNorm2d(256, eps=1e-05, momentum=0.1, affine=True, track_running_stats=True)\n",
              "      (conv2): Conv2d(256, 256, kernel_size=(3, 3), stride=(1, 1), padding=(1, 1), bias=False)\n",
              "      (bn2): BatchNorm2d(256, eps=1e-05, momentum=0.1, affine=True, track_running_stats=True)\n",
              "      (conv3): Conv2d(256, 1024, kernel_size=(1, 1), stride=(1, 1), bias=False)\n",
              "      (bn3): BatchNorm2d(1024, eps=1e-05, momentum=0.1, affine=True, track_running_stats=True)\n",
              "      (relu): ReLU(inplace=True)\n",
              "    )\n",
              "    (31): Bottleneck(\n",
              "      (conv1): Conv2d(1024, 256, kernel_size=(1, 1), stride=(1, 1), bias=False)\n",
              "      (bn1): BatchNorm2d(256, eps=1e-05, momentum=0.1, affine=True, track_running_stats=True)\n",
              "      (conv2): Conv2d(256, 256, kernel_size=(3, 3), stride=(1, 1), padding=(1, 1), bias=False)\n",
              "      (bn2): BatchNorm2d(256, eps=1e-05, momentum=0.1, affine=True, track_running_stats=True)\n",
              "      (conv3): Conv2d(256, 1024, kernel_size=(1, 1), stride=(1, 1), bias=False)\n",
              "      (bn3): BatchNorm2d(1024, eps=1e-05, momentum=0.1, affine=True, track_running_stats=True)\n",
              "      (relu): ReLU(inplace=True)\n",
              "    )\n",
              "    (32): Bottleneck(\n",
              "      (conv1): Conv2d(1024, 256, kernel_size=(1, 1), stride=(1, 1), bias=False)\n",
              "      (bn1): BatchNorm2d(256, eps=1e-05, momentum=0.1, affine=True, track_running_stats=True)\n",
              "      (conv2): Conv2d(256, 256, kernel_size=(3, 3), stride=(1, 1), padding=(1, 1), bias=False)\n",
              "      (bn2): BatchNorm2d(256, eps=1e-05, momentum=0.1, affine=True, track_running_stats=True)\n",
              "      (conv3): Conv2d(256, 1024, kernel_size=(1, 1), stride=(1, 1), bias=False)\n",
              "      (bn3): BatchNorm2d(1024, eps=1e-05, momentum=0.1, affine=True, track_running_stats=True)\n",
              "      (relu): ReLU(inplace=True)\n",
              "    )\n",
              "    (33): Bottleneck(\n",
              "      (conv1): Conv2d(1024, 256, kernel_size=(1, 1), stride=(1, 1), bias=False)\n",
              "      (bn1): BatchNorm2d(256, eps=1e-05, momentum=0.1, affine=True, track_running_stats=True)\n",
              "      (conv2): Conv2d(256, 256, kernel_size=(3, 3), stride=(1, 1), padding=(1, 1), bias=False)\n",
              "      (bn2): BatchNorm2d(256, eps=1e-05, momentum=0.1, affine=True, track_running_stats=True)\n",
              "      (conv3): Conv2d(256, 1024, kernel_size=(1, 1), stride=(1, 1), bias=False)\n",
              "      (bn3): BatchNorm2d(1024, eps=1e-05, momentum=0.1, affine=True, track_running_stats=True)\n",
              "      (relu): ReLU(inplace=True)\n",
              "    )\n",
              "    (34): Bottleneck(\n",
              "      (conv1): Conv2d(1024, 256, kernel_size=(1, 1), stride=(1, 1), bias=False)\n",
              "      (bn1): BatchNorm2d(256, eps=1e-05, momentum=0.1, affine=True, track_running_stats=True)\n",
              "      (conv2): Conv2d(256, 256, kernel_size=(3, 3), stride=(1, 1), padding=(1, 1), bias=False)\n",
              "      (bn2): BatchNorm2d(256, eps=1e-05, momentum=0.1, affine=True, track_running_stats=True)\n",
              "      (conv3): Conv2d(256, 1024, kernel_size=(1, 1), stride=(1, 1), bias=False)\n",
              "      (bn3): BatchNorm2d(1024, eps=1e-05, momentum=0.1, affine=True, track_running_stats=True)\n",
              "      (relu): ReLU(inplace=True)\n",
              "    )\n",
              "    (35): Bottleneck(\n",
              "      (conv1): Conv2d(1024, 256, kernel_size=(1, 1), stride=(1, 1), bias=False)\n",
              "      (bn1): BatchNorm2d(256, eps=1e-05, momentum=0.1, affine=True, track_running_stats=True)\n",
              "      (conv2): Conv2d(256, 256, kernel_size=(3, 3), stride=(1, 1), padding=(1, 1), bias=False)\n",
              "      (bn2): BatchNorm2d(256, eps=1e-05, momentum=0.1, affine=True, track_running_stats=True)\n",
              "      (conv3): Conv2d(256, 1024, kernel_size=(1, 1), stride=(1, 1), bias=False)\n",
              "      (bn3): BatchNorm2d(1024, eps=1e-05, momentum=0.1, affine=True, track_running_stats=True)\n",
              "      (relu): ReLU(inplace=True)\n",
              "    )\n",
              "  )\n",
              "  (layer4): Sequential(\n",
              "    (0): Bottleneck(\n",
              "      (conv1): Conv2d(1024, 512, kernel_size=(1, 1), stride=(1, 1), bias=False)\n",
              "      (bn1): BatchNorm2d(512, eps=1e-05, momentum=0.1, affine=True, track_running_stats=True)\n",
              "      (conv2): Conv2d(512, 512, kernel_size=(3, 3), stride=(2, 2), padding=(1, 1), bias=False)\n",
              "      (bn2): BatchNorm2d(512, eps=1e-05, momentum=0.1, affine=True, track_running_stats=True)\n",
              "      (conv3): Conv2d(512, 2048, kernel_size=(1, 1), stride=(1, 1), bias=False)\n",
              "      (bn3): BatchNorm2d(2048, eps=1e-05, momentum=0.1, affine=True, track_running_stats=True)\n",
              "      (relu): ReLU(inplace=True)\n",
              "      (downsample): Sequential(\n",
              "        (0): Conv2d(1024, 2048, kernel_size=(1, 1), stride=(2, 2), bias=False)\n",
              "        (1): BatchNorm2d(2048, eps=1e-05, momentum=0.1, affine=True, track_running_stats=True)\n",
              "      )\n",
              "    )\n",
              "    (1): Bottleneck(\n",
              "      (conv1): Conv2d(2048, 512, kernel_size=(1, 1), stride=(1, 1), bias=False)\n",
              "      (bn1): BatchNorm2d(512, eps=1e-05, momentum=0.1, affine=True, track_running_stats=True)\n",
              "      (conv2): Conv2d(512, 512, kernel_size=(3, 3), stride=(1, 1), padding=(1, 1), bias=False)\n",
              "      (bn2): BatchNorm2d(512, eps=1e-05, momentum=0.1, affine=True, track_running_stats=True)\n",
              "      (conv3): Conv2d(512, 2048, kernel_size=(1, 1), stride=(1, 1), bias=False)\n",
              "      (bn3): BatchNorm2d(2048, eps=1e-05, momentum=0.1, affine=True, track_running_stats=True)\n",
              "      (relu): ReLU(inplace=True)\n",
              "    )\n",
              "    (2): Bottleneck(\n",
              "      (conv1): Conv2d(2048, 512, kernel_size=(1, 1), stride=(1, 1), bias=False)\n",
              "      (bn1): BatchNorm2d(512, eps=1e-05, momentum=0.1, affine=True, track_running_stats=True)\n",
              "      (conv2): Conv2d(512, 512, kernel_size=(3, 3), stride=(1, 1), padding=(1, 1), bias=False)\n",
              "      (bn2): BatchNorm2d(512, eps=1e-05, momentum=0.1, affine=True, track_running_stats=True)\n",
              "      (conv3): Conv2d(512, 2048, kernel_size=(1, 1), stride=(1, 1), bias=False)\n",
              "      (bn3): BatchNorm2d(2048, eps=1e-05, momentum=0.1, affine=True, track_running_stats=True)\n",
              "      (relu): ReLU(inplace=True)\n",
              "    )\n",
              "  )\n",
              "  (avgpool): AdaptiveAvgPool2d(output_size=(1, 1))\n",
              "  (fc): Linear(in_features=2048, out_features=1000, bias=True)\n",
              ")"
            ]
          },
          "metadata": {},
          "execution_count": 68
        }
      ]
    },
    {
      "cell_type": "code",
      "source": [
        "class Resnet(nn.Module):\n",
        "  def __init__(self, in_channels=1):\n",
        "\n",
        "\n",
        "  def forward(self,x):\n",
        "\n"
      ],
      "metadata": {
        "id": "HF4a-BfgOvjh"
      },
      "execution_count": null,
      "outputs": []
    },
    {
      "cell_type": "code",
      "source": [
        "model = Resnet().to(device)\n",
        "basic_data = torch.rand(64,1,28,28)\n",
        "model(basic_data.to(device))"
      ],
      "metadata": {
        "colab": {
          "base_uri": "https://localhost:8080/"
        },
        "id": "hPO1MLUmsIEm",
        "outputId": "f0396b37-61fe-4c69-9482-31b0ed8ec359"
      },
      "execution_count": null,
      "outputs": [
        {
          "output_type": "execute_result",
          "data": {
            "text/plain": [
              "tensor([[-0.1825,  0.3272,  0.0199, -0.1611,  0.3800, -0.0597, -0.5043, -0.0028,\n",
              "          0.0115, -0.3209],\n",
              "        [-0.2796, -0.3270,  0.6246, -0.4413, -0.5419, -0.1559, -0.0569,  0.0309,\n",
              "         -0.7635, -0.0217],\n",
              "        [-0.3865, -0.2417, -0.1933, -0.2917, -0.2743,  0.5846, -0.1997, -0.3651,\n",
              "         -0.1538,  0.1159],\n",
              "        [ 0.2106,  0.4426,  0.6804, -0.1645,  0.0430,  0.3708,  0.3288, -0.0190,\n",
              "         -0.4511,  0.1665],\n",
              "        [-0.0731,  0.3629,  1.1336, -0.6766, -0.5273, -0.5811,  0.9866, -0.2289,\n",
              "         -0.6695, -0.5360],\n",
              "        [-1.1566,  0.0034, -0.2808,  0.2442, -1.0094, -0.0599,  0.5758,  0.3949,\n",
              "         -0.1518,  0.3093],\n",
              "        [ 0.2774, -0.0127,  0.7796,  0.2487, -0.3145, -0.1267,  0.2222, -0.0064,\n",
              "         -0.5487, -0.2832],\n",
              "        [ 0.1675, -0.2041, -0.1825, -0.0772, -0.6724,  0.5247, -0.1070, -0.1756,\n",
              "         -0.2349, -0.3674],\n",
              "        [ 0.2239, -0.0490,  0.3470,  0.1564, -0.1049,  0.0131, -0.3629,  0.2515,\n",
              "         -0.2802,  0.1470],\n",
              "        [-0.2910, -0.3656,  0.1129,  0.3926, -1.1285, -0.2221, -0.4179,  0.3139,\n",
              "         -0.3132,  0.3434],\n",
              "        [ 0.1819, -0.0672, -0.2879, -0.3027, -0.4569, -0.4033, -0.0599, -0.2162,\n",
              "         -0.2561, -0.5962],\n",
              "        [-0.7456, -0.6596, -0.2084,  0.2784, -1.0070, -0.0905, -0.4859, -0.8771,\n",
              "         -0.3500, -0.0326],\n",
              "        [ 0.0862,  0.0460,  0.4876, -0.2531, -0.1831,  0.1704, -0.6331,  0.1331,\n",
              "         -0.5485,  0.1057],\n",
              "        [-0.5475, -0.1586, -0.2171, -0.2170,  0.6900, -0.3945, -0.9013, -0.8433,\n",
              "          0.0109, -1.2893],\n",
              "        [-0.5279,  0.0674,  0.1878, -0.6000, -0.7583, -0.0088, -0.1884, -0.3654,\n",
              "         -0.0430, -0.4950],\n",
              "        [ 0.1009,  0.1387,  0.5286,  0.0279, -0.5252,  0.1883, -0.2789, -0.4981,\n",
              "         -0.2118,  0.0855],\n",
              "        [-0.8686, -0.5597,  0.5883,  0.2485, -0.1480,  0.3963, -0.2968,  0.5207,\n",
              "         -0.7482,  0.0018],\n",
              "        [-0.2074, -0.0810, -0.1323, -0.2530, -0.9063,  0.5629,  0.2642, -0.6630,\n",
              "          0.0018,  0.0901],\n",
              "        [-0.7409,  0.0419,  0.3170,  0.1939, -0.4645, -0.1513, -0.5565,  0.0832,\n",
              "         -0.0996, -0.4485],\n",
              "        [ 0.5755, -0.3086,  0.1464,  0.2094, -0.6135, -0.0049, -0.4070, -0.3281,\n",
              "         -0.0052, -0.7485],\n",
              "        [-0.7946, -0.5896,  0.1623,  0.1033, -0.3698,  0.1776, -0.4102, -0.3309,\n",
              "         -0.7490,  0.0362],\n",
              "        [-0.2815, -0.5345,  0.5056,  0.0849, -0.4496, -0.2743, -0.1823, -0.2984,\n",
              "         -0.1130, -0.1761],\n",
              "        [ 0.1700,  0.0522, -0.3181,  0.5428, -1.0110,  1.0754, -0.7201,  0.5890,\n",
              "         -0.5088, -0.4218],\n",
              "        [-0.3340, -0.4519,  0.2704, -0.2494, -0.0182,  0.2540, -0.1984, -0.0448,\n",
              "         -0.5518,  0.7482],\n",
              "        [ 0.4613,  0.3827,  0.2567, -0.1633, -0.1663, -0.0810, -0.4088, -0.0160,\n",
              "         -0.3007,  0.3828],\n",
              "        [-0.5918,  0.4638,  0.3105, -0.0301, -0.2359,  0.1300, -0.3282, -0.3782,\n",
              "          0.5105, -0.1560],\n",
              "        [ 0.1175,  0.3285,  0.1424, -0.1243, -0.6418, -0.7552,  0.3072, -0.0475,\n",
              "         -1.0557, -0.1155],\n",
              "        [-0.0909, -0.1204,  0.2135, -0.1220, -0.1534, -0.2937, -0.6536, -0.2985,\n",
              "         -0.2896, -0.1815],\n",
              "        [-0.2572, -0.0501,  0.2269,  0.0689, -0.4743,  0.4204, -0.0924, -0.1153,\n",
              "         -0.2418, -0.3795],\n",
              "        [ 0.2739, -0.4438,  0.6830,  0.7344, -0.8441, -0.1332, -0.0864, -0.4602,\n",
              "         -0.4962, -0.5489],\n",
              "        [-0.2598,  0.0979, -0.1573,  0.0314, -0.5790, -0.4377, -0.2736, -0.4555,\n",
              "          0.0269, -0.6175],\n",
              "        [-0.0462,  0.3427,  0.3953, -0.4329, -0.4123,  0.0023, -0.4298, -0.2126,\n",
              "          0.1520, -0.5161],\n",
              "        [-0.1433,  0.0169,  0.2016, -0.9718, -1.0175,  0.1771,  0.3435, -0.3220,\n",
              "         -0.4193, -0.2816],\n",
              "        [-0.9316, -0.1692,  0.4356, -0.0359, -0.3231, -0.1720, -0.9035, -0.7985,\n",
              "         -0.6064, -0.2376],\n",
              "        [-0.3672,  0.6690,  0.2824,  0.5864, -0.3267, -0.5668, -0.8170, -0.0959,\n",
              "         -0.5582, -0.0877],\n",
              "        [-0.0044,  0.3903,  0.3353,  0.0434, -0.5904, -0.0611,  0.0100, -0.0982,\n",
              "         -0.4507, -0.1029],\n",
              "        [ 0.2400, -0.6137,  0.3546, -0.4325, -0.2714, -0.1402,  0.3306,  0.0081,\n",
              "         -0.3961, -0.1828],\n",
              "        [-0.4212, -0.2504,  0.7545, -0.3075, -1.5674, -0.3144, -1.3436, -0.4130,\n",
              "         -1.0938, -1.0294],\n",
              "        [-0.1962, -0.1626, -0.1282,  0.2171, -0.2236, -0.5818,  0.2880,  0.1602,\n",
              "         -0.4052, -0.2328],\n",
              "        [-0.6853,  0.2051,  0.4714, -0.3857,  0.0286, -0.4753, -0.2343, -1.2689,\n",
              "         -0.9084, -1.5699],\n",
              "        [ 0.0676, -0.2178,  0.3098, -0.0541, -0.5467, -0.4576, -0.4935, -0.3300,\n",
              "         -0.4729, -0.1309],\n",
              "        [-0.2075,  0.0154,  0.0608, -0.3268, -0.2096,  0.0544, -0.0484, -0.0960,\n",
              "         -0.9005, -0.6407],\n",
              "        [ 0.7022, -0.3078, -0.0868,  0.0924, -0.0367,  0.0411, -0.5760, -0.3479,\n",
              "         -0.0969, -0.4965],\n",
              "        [ 0.3101, -0.6893,  0.4015, -0.8210, -1.1551,  0.4053,  0.2654,  0.0030,\n",
              "         -0.1903, -0.1438],\n",
              "        [-0.7449, -0.1588,  0.3359,  0.0532, -0.3496,  0.0150,  0.3116,  0.1830,\n",
              "         -0.6372, -0.4062],\n",
              "        [-1.2574, -0.1064,  0.3730, -0.9020, -1.4599,  0.1490,  0.0698, -0.2115,\n",
              "         -0.7321, -0.2203],\n",
              "        [ 0.1041, -0.5219, -0.0059, -0.6455, -0.5484,  0.4301, -0.3537,  0.0781,\n",
              "         -0.2756,  0.0736],\n",
              "        [-0.2213, -0.0546,  0.2215, -0.1466, -0.0635,  0.2656, -1.1073, -0.3504,\n",
              "         -0.5409, -0.3111],\n",
              "        [-0.5695, -0.4354, -0.3499, -0.0238, -0.8698,  0.0123,  0.3848, -0.0924,\n",
              "          0.0546, -0.2845],\n",
              "        [-0.1625, -0.0821, -0.2379, -0.0033,  0.1384, -0.0639, -0.2497,  0.3698,\n",
              "         -0.3101,  0.1548],\n",
              "        [-0.4106, -0.0362, -0.0531, -0.0156, -0.3481, -0.5685,  0.1098,  0.4013,\n",
              "         -0.2425, -0.2645],\n",
              "        [-0.0454, -0.2631,  0.7648,  0.1854, -0.4721,  0.6284, -0.3626, -0.1177,\n",
              "         -0.6216,  0.2076],\n",
              "        [ 0.0218, -0.3097,  0.0177, -0.2152, -0.5051, -0.0746,  1.2226, -1.3365,\n",
              "         -0.4896, -0.8942],\n",
              "        [-0.2521,  0.1033,  0.6003, -0.7729,  0.2351,  0.1610, -0.3363, -0.1775,\n",
              "         -0.7641,  0.0228],\n",
              "        [-0.9491,  0.1691,  0.6793, -0.4469,  0.4117, -0.2649,  0.2705, -0.5107,\n",
              "          0.0856,  0.0498],\n",
              "        [ 0.1690, -0.3570,  1.0802, -1.0766, -1.1603,  0.2603, -1.2928, -0.0914,\n",
              "          0.2305, -0.6390],\n",
              "        [-0.0543,  0.0853,  0.5277, -0.2001, -0.3790,  0.3709, -0.2539, -0.1641,\n",
              "         -0.4515,  0.0940],\n",
              "        [ 0.3017,  0.3272,  0.5533,  0.1273, -0.1681,  0.0308, -0.0382, -0.4240,\n",
              "         -0.7051, -0.3553],\n",
              "        [-0.1098,  0.1808,  0.7894,  0.0461, -0.3286, -0.1655, -0.5276,  0.0245,\n",
              "         -0.2237, -0.2688],\n",
              "        [-0.4697, -0.0622,  0.2364, -0.2371, -0.5724, -0.0244, -0.2712, -0.3197,\n",
              "         -0.0424, -0.1587],\n",
              "        [-0.2624, -0.0676,  0.8863,  0.1565, -0.8548,  0.0061,  0.0051, -0.5122,\n",
              "         -0.7313, -0.4991],\n",
              "        [-0.2793,  0.2139, -0.0857, -0.1443, -0.6478, -0.4270, -0.3013, -0.4369,\n",
              "         -0.4092, -0.1325],\n",
              "        [ 0.4947, -0.7371,  0.3612, -0.5876, -0.8608, -0.0070, -0.4416,  0.5431,\n",
              "          0.1767, -1.1760],\n",
              "        [ 0.1217,  0.0782,  1.1561, -0.6202, -1.4507,  0.4306, -0.1874, -0.5221,\n",
              "          0.2026, -1.0195]], device='cuda:0', grad_fn=<AddmmBackward0>)"
            ]
          },
          "metadata": {},
          "execution_count": 83
        }
      ]
    },
    {
      "cell_type": "markdown",
      "source": [
        "### 학습하기"
      ],
      "metadata": {
        "id": "LXJXzGgW_JKq"
      }
    },
    {
      "cell_type": "code",
      "source": [
        "num_epochs = 5\n",
        "lr = 0.00003\n",
        "optimizer = torch.optim.Adam(model.parameters(), lr=lr)\n",
        "criterion = torch.nn.CrossEntropyLoss()"
      ],
      "metadata": {
        "id": "B0R-_sZbQIvt"
      },
      "execution_count": null,
      "outputs": []
    },
    {
      "cell_type": "code",
      "source": [
        "loss_graph = [] # 그래프 그릴 목적인 loss.\n",
        "train_n = len(dataset_train)*4/5\n",
        "val_n = len(dataset_train)/5\n",
        "best_val_acc = 0\n",
        "\n",
        "for epoch in range(num_epochs):\n",
        "    print('Epoch : {}'.format(epoch+1))\n",
        "    running_loss = 0.0\n",
        "    running_acc = 0\n",
        "    for inputs, labels in train_loader:  # dataloader 함수에 def __len__에 return 값만큼 반복함\n",
        "\n",
        "              inputs = inputs.to(device)\n",
        "              labels = labels.to(device)\n",
        "              out = model(inputs)\n",
        "              loss = criterion(out, labels)\n",
        "\n",
        "              optimizer.zero_grad() #\n",
        "              loss.backward() # loss가 최소가 되게하는\n",
        "              optimizer.step() # 어떤 방법으로 learning rate를 움직일거이냐\n",
        "\n",
        "              _, preds = torch.max(out,1)\n",
        "              running_loss += loss.item() # 한 배치의 loss 더해주고,\n",
        "              running_acc += torch.sum(preds == labels.data)\n",
        "    print(\"train\")\n",
        "    print(\"loss: {}\".format(round(running_loss,4)/train_n*100))\n",
        "    print(\"acc {}\".format(running_acc/train_n))\n",
        "\n",
        "    val_loss = 0.0\n",
        "    val_acc = 0\n",
        "    with torch.no_grad():\n",
        "              print(\"Calculating validation results...\")\n",
        "              model.eval()\n",
        "              figure = None\n",
        "              for inputs, labels in val_loader:\n",
        "                  inputs = inputs.to(device)\n",
        "                  labels = labels.to(device)\n",
        "                  out = model(inputs)\n",
        "                  _, preds = torch.max(out,1)\n",
        "                  loss = criterion(out,labels)\n",
        "\n",
        "                  val_loss +=loss.item()\n",
        "                  val_acc += torch.sum(preds == labels.data)\n",
        "\n",
        "              print(\"val\")\n",
        "              print( \"loss: {}\".format(round(val_loss,4)/val_n*100))\n",
        "              print(\"acc {}\".format(val_acc/val_n))\n",
        "    print('============================================================')"
      ],
      "metadata": {
        "colab": {
          "base_uri": "https://localhost:8080/"
        },
        "id": "B9lRtr61PShZ",
        "outputId": "fe50077d-5ec6-4893-f0fe-14f9c04dd7a1"
      },
      "execution_count": null,
      "outputs": [
        {
          "output_type": "stream",
          "name": "stdout",
          "text": [
            "Epoch : 1\n",
            "train\n",
            "loss: 0.02751770833333333\n",
            "acc 0.9942083358764648\n",
            "Calculating validation results...\n",
            "val\n",
            "loss: 0.12258833333333333\n",
            "acc 0.9774999618530273\n",
            "============================================================\n",
            "Epoch : 2\n",
            "train\n",
            "loss: 0.02102625\n",
            "acc 0.9955624938011169\n",
            "Calculating validation results...\n",
            "val\n",
            "loss: 0.18752166666666667\n",
            "acc 0.9727500081062317\n",
            "============================================================\n",
            "Epoch : 3\n",
            "train\n",
            "loss: 0.02336541666666667\n",
            "acc 0.995270848274231\n",
            "Calculating validation results...\n",
            "val\n",
            "loss: 0.13999333333333333\n",
            "acc 0.9774166345596313\n",
            "============================================================\n",
            "Epoch : 4\n",
            "train\n",
            "loss: 0.024611041666666666\n",
            "acc 0.9951457977294922\n",
            "Calculating validation results...\n",
            "val\n",
            "loss: 0.14288916666666665\n",
            "acc 0.9758332967758179\n",
            "============================================================\n",
            "Epoch : 5\n",
            "train\n",
            "loss: 0.015227708333333334\n",
            "acc 0.9969375133514404\n",
            "Calculating validation results...\n",
            "val\n",
            "loss: 0.10753416666666665\n",
            "acc 0.9817500114440918\n",
            "============================================================\n"
          ]
        }
      ]
    },
    {
      "cell_type": "code",
      "source": [
        "x = dataset_train[3][0]\n",
        "plt.imshow( x[0], cmap='gray' )\n",
        "\n",
        "x = x.reshape(1,1,28,28)\n",
        "\n",
        "out = model(x.to(device))\n",
        "_, preds = torch.max(out,1)\n",
        "print(preds)"
      ],
      "metadata": {
        "id": "Ct-kfd8hySPr",
        "colab": {
          "base_uri": "https://localhost:8080/",
          "height": 448
        },
        "outputId": "3f715d81-c40f-4832-9645-03daee02080e"
      },
      "execution_count": null,
      "outputs": [
        {
          "output_type": "stream",
          "name": "stdout",
          "text": [
            "tensor([1], device='cuda:0')\n"
          ]
        },
        {
          "output_type": "display_data",
          "data": {
            "text/plain": [
              "<Figure size 640x480 with 1 Axes>"
            ],
            "image/png": "[encoded data removed]"
          },
          "metadata": {}
        }
      ]
    },
    {
      "cell_type": "code",
      "source": [],
      "metadata": {
        "id": "FfYcugPqAX-k"
      },
      "execution_count": null,
      "outputs": []
    }
  ]
}